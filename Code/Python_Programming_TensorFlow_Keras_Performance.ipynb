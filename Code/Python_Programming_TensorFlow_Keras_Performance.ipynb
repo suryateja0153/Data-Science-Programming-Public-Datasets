{
 "cells": [
  {
   "cell_type": "markdown",
   "metadata": {},
   "source": [
    "# <font color = 'Green'>Python_Programming_TensorFlow_Keras_Performance</font>"
   ]
  },
  {
   "cell_type": "markdown",
   "metadata": {},
   "source": [
    "**For this homework you will be exploring two types of deep learning models on the MNIST image database, one using many dense sequential layers constructed using Keras, and the second using a mix of convolutional and pooling layers constructed based on a CNN deep learning model. You can use any architecture you want for each of these two.**"
   ]
  },
  {
   "cell_type": "markdown",
   "metadata": {},
   "source": [
    "**1. In the first pass, use the traditional densely connected multi-layer architecture and build a few deep learning models with the goal of gradually increasing accuracies on a validation dataset. Try (sequentially) three different configurations and report those results (even if they aren’t getting better as you thought).**"
   ]
  },
  {
   "cell_type": "code",
   "execution_count": 1,
   "metadata": {},
   "outputs": [],
   "source": [
    "#Import Required Libraries\n",
    "from __future__ import print_function\n",
    "from matplotlib import pyplot as plt\n",
    "from tensorflow import keras\n",
    "from sklearn.metrics import confusion_matrix\n",
    "from keras import backend as K\n",
    "from keras.datasets import mnist\n",
    "from keras.models import Sequential,model_from_json\n",
    "from keras.layers import Dense, Dropout, Flatten\n",
    "from keras.layers import Conv2D, MaxPooling2D\n",
    "from tensorflow.keras.optimizers import RMSprop"
   ]
  },
  {
   "cell_type": "code",
   "execution_count": 2,
   "metadata": {},
   "outputs": [],
   "source": [
    "#Split Data Into Train and Test Sets\n",
    "(X_train, y_train), (X_test, y_test) = mnist.load_data()"
   ]
  },
  {
   "cell_type": "markdown",
   "metadata": {},
   "source": [
    "## 1st Model"
   ]
  },
  {
   "cell_type": "code",
   "execution_count": 3,
   "metadata": {},
   "outputs": [
    {
     "name": "stdout",
     "output_type": "stream",
     "text": [
      "60000 train samples\n",
      "10000 test samples\n"
     ]
    }
   ],
   "source": [
    "#Reshaping Data for Neural Networks\n",
    "X_train = X_train.reshape(60000, 784)\n",
    "X_test = X_test.reshape(10000, 784)\n",
    "X_train = X_train.astype('float32')\n",
    "X_test = X_test.astype('float32')\n",
    "X_train /= 255\n",
    "X_test /= 255\n",
    "print(X_train.shape[0], 'train samples')\n",
    "print(X_test.shape[0], 'test samples')"
   ]
  },
  {
   "cell_type": "code",
   "execution_count": 4,
   "metadata": {},
   "outputs": [],
   "source": [
    "#Build Categorical Matrix on Y column\n",
    "y_train = keras.utils.to_categorical(y_train, 10)\n",
    "y_test = keras.utils.to_categorical(y_test, 10)"
   ]
  },
  {
   "cell_type": "code",
   "execution_count": 5,
   "metadata": {},
   "outputs": [],
   "source": [
    "#Layering for Neural Networks Which in this Case is Three\n",
    "model = Sequential()\n",
    "model.add(Dense(400, activation='relu', input_shape=(784,)))\n",
    "model.add(Dropout(0.2))\n",
    "model.add(Dense(300, activation='relu'))\n",
    "model.add(Dropout(0.2))\n",
    "model.add(Dense(10, activation='softmax'))"
   ]
  },
  {
   "cell_type": "code",
   "execution_count": 6,
   "metadata": {},
   "outputs": [],
   "source": [
    "#Model Encoding\n",
    "model.compile(loss='categorical_crossentropy',\n",
    "              optimizer=RMSprop(),\n",
    "              metrics=['accuracy'])"
   ]
  },
  {
   "cell_type": "code",
   "execution_count": 7,
   "metadata": {},
   "outputs": [],
   "source": [
    "batch_size = 128\n",
    "num_classes = 10\n",
    "epochs = 20"
   ]
  },
  {
   "cell_type": "code",
   "execution_count": 8,
   "metadata": {},
   "outputs": [
    {
     "name": "stdout",
     "output_type": "stream",
     "text": [
      "Epoch 1/20\n",
      "469/469 [==============================] - 3s 6ms/step - loss: 0.2648 - accuracy: 0.9189 - val_loss: 0.1136 - val_accuracy: 0.9661\n",
      "Epoch 2/20\n",
      "469/469 [==============================] - 3s 6ms/step - loss: 0.1092 - accuracy: 0.9664 - val_loss: 0.0833 - val_accuracy: 0.9746\n",
      "Epoch 3/20\n",
      "469/469 [==============================] - 3s 6ms/step - loss: 0.0794 - accuracy: 0.9759 - val_loss: 0.0831 - val_accuracy: 0.9750\n",
      "Epoch 4/20\n",
      "469/469 [==============================] - 3s 6ms/step - loss: 0.0655 - accuracy: 0.9799 - val_loss: 0.0829 - val_accuracy: 0.9749\n",
      "Epoch 5/20\n",
      "469/469 [==============================] - 3s 6ms/step - loss: 0.0552 - accuracy: 0.9832 - val_loss: 0.0730 - val_accuracy: 0.9793\n",
      "Epoch 6/20\n",
      "469/469 [==============================] - 3s 6ms/step - loss: 0.0481 - accuracy: 0.9853 - val_loss: 0.0722 - val_accuracy: 0.9803\n",
      "Epoch 7/20\n",
      "469/469 [==============================] - 3s 5ms/step - loss: 0.0406 - accuracy: 0.9876 - val_loss: 0.0774 - val_accuracy: 0.9791\n",
      "Epoch 8/20\n",
      "469/469 [==============================] - 3s 6ms/step - loss: 0.0363 - accuracy: 0.9889 - val_loss: 0.0730 - val_accuracy: 0.9830\n",
      "Epoch 9/20\n",
      "469/469 [==============================] - 3s 6ms/step - loss: 0.0325 - accuracy: 0.9904 - val_loss: 0.0741 - val_accuracy: 0.9829\n",
      "Epoch 10/20\n",
      "469/469 [==============================] - 3s 6ms/step - loss: 0.0314 - accuracy: 0.9910 - val_loss: 0.0798 - val_accuracy: 0.9821\n",
      "Epoch 11/20\n",
      "469/469 [==============================] - 3s 6ms/step - loss: 0.0274 - accuracy: 0.9921 - val_loss: 0.0778 - val_accuracy: 0.9827\n",
      "Epoch 12/20\n",
      "469/469 [==============================] - 3s 6ms/step - loss: 0.0262 - accuracy: 0.9923 - val_loss: 0.0816 - val_accuracy: 0.9840\n",
      "Epoch 13/20\n",
      "469/469 [==============================] - 3s 6ms/step - loss: 0.0255 - accuracy: 0.9926 - val_loss: 0.0940 - val_accuracy: 0.9798\n",
      "Epoch 14/20\n",
      "469/469 [==============================] - 3s 6ms/step - loss: 0.0226 - accuracy: 0.9937 - val_loss: 0.0898 - val_accuracy: 0.9830\n",
      "Epoch 15/20\n",
      "469/469 [==============================] - 3s 6ms/step - loss: 0.0222 - accuracy: 0.9933 - val_loss: 0.0879 - val_accuracy: 0.9845\n",
      "Epoch 16/20\n",
      "469/469 [==============================] - 3s 6ms/step - loss: 0.0208 - accuracy: 0.9939 - val_loss: 0.0867 - val_accuracy: 0.9826\n",
      "Epoch 17/20\n",
      "469/469 [==============================] - 3s 6ms/step - loss: 0.0185 - accuracy: 0.9945 - val_loss: 0.1056 - val_accuracy: 0.9830\n",
      "Epoch 18/20\n",
      "469/469 [==============================] - 3s 6ms/step - loss: 0.0173 - accuracy: 0.9948 - val_loss: 0.0991 - val_accuracy: 0.9840\n",
      "Epoch 19/20\n",
      "469/469 [==============================] - 3s 6ms/step - loss: 0.0168 - accuracy: 0.9951 - val_loss: 0.1121 - val_accuracy: 0.9817\n",
      "Epoch 20/20\n",
      "469/469 [==============================] - 3s 6ms/step - loss: 0.0173 - accuracy: 0.9952 - val_loss: 0.1172 - val_accuracy: 0.9828\n"
     ]
    }
   ],
   "source": [
    "#Fitting Model for Epoch 20\n",
    "history = model.fit(X_train, y_train,\n",
    "                    batch_size=batch_size,\n",
    "                    epochs=epochs,\n",
    "                    verbose=1,\n",
    "                    validation_data=(X_test, y_test))"
   ]
  },
  {
   "cell_type": "code",
   "execution_count": 11,
   "metadata": {},
   "outputs": [
    {
     "name": "stdout",
     "output_type": "stream",
     "text": [
      "Test loss: 0.11716295033693314\n",
      "Test accuracy: 0.9828000068664551\n",
      "dict_keys(['loss', 'accuracy', 'val_loss', 'val_accuracy'])\n"
     ]
    }
   ],
   "source": [
    "#Scoring Model\n",
    "score = model.evaluate(X_test, y_test, verbose=0)\n",
    "print('Test loss:', score[0])\n",
    "print('Test accuracy:', score[1])\n",
    "print(history.history.keys())"
   ]
  },
  {
   "cell_type": "code",
   "execution_count": 12,
   "metadata": {},
   "outputs": [
    {
     "data": {
      "image/png": "[encoded data removed]",
      "text/plain": [
       "<Figure size 432x288 with 1 Axes>"
      ]
     },
     "metadata": {
      "needs_background": "light"
     },
     "output_type": "display_data"
    }
   ],
   "source": [
    "#Plotting\n",
    "plt.plot(history.history['accuracy'])\n",
    "plt.plot(history.history['val_accuracy'])\n",
    "plt.title('model accuracy')\n",
    "plt.ylabel('accuracy')\n",
    "plt.xlabel('epoch')\n",
    "plt.legend(['train', 'test'], loc='lower right')\n",
    "plt.show()"
   ]
  },
  {
   "cell_type": "markdown",
   "metadata": {},
   "source": [
    "## 2nd Model"
   ]
  },
  {
   "cell_type": "code",
   "execution_count": 13,
   "metadata": {},
   "outputs": [
    {
     "name": "stdout",
     "output_type": "stream",
     "text": [
      "Model: \"sequential_1\"\n",
      "_________________________________________________________________\n",
      "Layer (type)                 Output Shape              Param #   \n",
      "=================================================================\n",
      "dense_3 (Dense)              (None, 300)               235500    \n",
      "_________________________________________________________________\n",
      "dropout_2 (Dropout)          (None, 300)               0         \n",
      "_________________________________________________________________\n",
      "dense_4 (Dense)              (None, 200)               60200     \n",
      "_________________________________________________________________\n",
      "dropout_3 (Dropout)          (None, 200)               0         \n",
      "_________________________________________________________________\n",
      "dense_5 (Dense)              (None, 100)               20100     \n",
      "_________________________________________________________________\n",
      "dropout_4 (Dropout)          (None, 100)               0         \n",
      "_________________________________________________________________\n",
      "dense_6 (Dense)              (None, 10)                1010      \n",
      "=================================================================\n",
      "Total params: 316,810\n",
      "Trainable params: 316,810\n",
      "Non-trainable params: 0\n",
      "_________________________________________________________________\n"
     ]
    }
   ],
   "source": [
    "#Layering for Neural Networks Which in this Case is Four and Encoding\n",
    "model = Sequential()\n",
    "model.add(Dense(300, activation='relu', input_shape=(784,)))\n",
    "model.add(Dropout(0.5))\n",
    "model.add(Dense(200, activation='relu'))\n",
    "model.add(Dropout(0.5))\n",
    "model.add(Dense(100, activation='relu'))\n",
    "model.add(Dropout(0.5))\n",
    "model.add(Dense(10, activation='softmax'))\n",
    "\n",
    "model.summary()\n",
    "\n",
    "model.compile(loss='categorical_crossentropy',\n",
    "              optimizer=RMSprop(),\n",
    "              metrics=['accuracy'])"
   ]
  },
  {
   "cell_type": "code",
   "execution_count": 14,
   "metadata": {},
   "outputs": [
    {
     "name": "stdout",
     "output_type": "stream",
     "text": [
      "Epoch 1/20\n",
      "469/469 [==============================] - 2s 4ms/step - loss: 0.6167 - accuracy: 0.8103 - val_loss: 0.1900 - val_accuracy: 0.9471\n",
      "Epoch 2/20\n",
      "469/469 [==============================] - 2s 3ms/step - loss: 0.2726 - accuracy: 0.9275 - val_loss: 0.1621 - val_accuracy: 0.9543\n",
      "Epoch 3/20\n",
      "469/469 [==============================] - 2s 3ms/step - loss: 0.2262 - accuracy: 0.9408 - val_loss: 0.1322 - val_accuracy: 0.9656\n",
      "Epoch 4/20\n",
      "469/469 [==============================] - 2s 3ms/step - loss: 0.2018 - accuracy: 0.9497 - val_loss: 0.1119 - val_accuracy: 0.9699\n",
      "Epoch 5/20\n",
      "469/469 [==============================] - ETA: 0s - loss: 0.1808 - accuracy: 0.95 - 1s 3ms/step - loss: 0.1809 - accuracy: 0.9552 - val_loss: 0.1094 - val_accuracy: 0.9730\n",
      "Epoch 6/20\n",
      "469/469 [==============================] - 1s 3ms/step - loss: 0.1748 - accuracy: 0.9581 - val_loss: 0.1218 - val_accuracy: 0.9726\n",
      "Epoch 7/20\n",
      "469/469 [==============================] - 2s 3ms/step - loss: 0.1678 - accuracy: 0.9604 - val_loss: 0.1172 - val_accuracy: 0.9735\n",
      "Epoch 8/20\n",
      "469/469 [==============================] - 1s 3ms/step - loss: 0.1622 - accuracy: 0.9627 - val_loss: 0.1126 - val_accuracy: 0.9743\n",
      "Epoch 9/20\n",
      "469/469 [==============================] - 1s 3ms/step - loss: 0.1578 - accuracy: 0.9636 - val_loss: 0.1027 - val_accuracy: 0.9759\n",
      "Epoch 10/20\n",
      "469/469 [==============================] - 1s 3ms/step - loss: 0.1537 - accuracy: 0.9637 - val_loss: 0.1028 - val_accuracy: 0.9775\n",
      "Epoch 11/20\n",
      "469/469 [==============================] - 1s 3ms/step - loss: 0.1418 - accuracy: 0.9663 - val_loss: 0.1070 - val_accuracy: 0.9768\n",
      "Epoch 12/20\n",
      "469/469 [==============================] - 1s 3ms/step - loss: 0.1481 - accuracy: 0.9665 - val_loss: 0.1231 - val_accuracy: 0.9763\n",
      "Epoch 13/20\n",
      "469/469 [==============================] - 2s 3ms/step - loss: 0.1472 - accuracy: 0.9668 - val_loss: 0.1051 - val_accuracy: 0.9788\n",
      "Epoch 14/20\n",
      "469/469 [==============================] - 2s 3ms/step - loss: 0.1463 - accuracy: 0.9682 - val_loss: 0.1015 - val_accuracy: 0.9779\n",
      "Epoch 15/20\n",
      "469/469 [==============================] - 1s 3ms/step - loss: 0.1445 - accuracy: 0.9677 - val_loss: 0.1161 - val_accuracy: 0.9774\n",
      "Epoch 16/20\n",
      "469/469 [==============================] - 1s 3ms/step - loss: 0.1447 - accuracy: 0.9697 - val_loss: 0.1122 - val_accuracy: 0.9791\n",
      "Epoch 17/20\n",
      "469/469 [==============================] - 2s 4ms/step - loss: 0.1413 - accuracy: 0.9693 - val_loss: 0.1221 - val_accuracy: 0.9774\n",
      "Epoch 18/20\n",
      "469/469 [==============================] - 1s 3ms/step - loss: 0.1412 - accuracy: 0.9692 - val_loss: 0.1163 - val_accuracy: 0.9767\n",
      "Epoch 19/20\n",
      "469/469 [==============================] - 1s 3ms/step - loss: 0.1426 - accuracy: 0.9701 - val_loss: 0.1282 - val_accuracy: 0.9776\n",
      "Epoch 20/20\n",
      "469/469 [==============================] - 2s 4ms/step - loss: 0.1374 - accuracy: 0.9709 - val_loss: 0.1295 - val_accuracy: 0.9787\n"
     ]
    }
   ],
   "source": [
    "#Fitting Model\n",
    "history = model.fit(X_train, y_train,\n",
    "                    batch_size=batch_size,\n",
    "                    epochs=epochs,\n",
    "                    verbose=1,\n",
    "                    validation_data=(X_test, y_test))"
   ]
  },
  {
   "cell_type": "code",
   "execution_count": 15,
   "metadata": {},
   "outputs": [
    {
     "name": "stdout",
     "output_type": "stream",
     "text": [
      "Test loss: 0.12950198352336884\n",
      "Test accuracy: 0.9786999821662903\n",
      "dict_keys(['loss', 'accuracy', 'val_loss', 'val_accuracy'])\n"
     ]
    }
   ],
   "source": [
    "#Scoring Model\n",
    "score = model.evaluate(X_test, y_test, verbose=0)\n",
    "print('Test loss:', score[0])\n",
    "print('Test accuracy:', score[1])\n",
    "print(history.history.keys())"
   ]
  },
  {
   "cell_type": "markdown",
   "metadata": {},
   "source": [
    "## 3rd Model"
   ]
  },
  {
   "cell_type": "code",
   "execution_count": 16,
   "metadata": {},
   "outputs": [
    {
     "name": "stdout",
     "output_type": "stream",
     "text": [
      "Model: \"sequential_2\"\n",
      "_________________________________________________________________\n",
      "Layer (type)                 Output Shape              Param #   \n",
      "=================================================================\n",
      "dense_7 (Dense)              (None, 200)               157000    \n",
      "_________________________________________________________________\n",
      "dropout_5 (Dropout)          (None, 200)               0         \n",
      "_________________________________________________________________\n",
      "dense_8 (Dense)              (None, 300)               60300     \n",
      "_________________________________________________________________\n",
      "dropout_6 (Dropout)          (None, 300)               0         \n",
      "_________________________________________________________________\n",
      "dense_9 (Dense)              (None, 250)               75250     \n",
      "_________________________________________________________________\n",
      "dropout_7 (Dropout)          (None, 250)               0         \n",
      "_________________________________________________________________\n",
      "dense_10 (Dense)             (None, 10)                2510      \n",
      "=================================================================\n",
      "Total params: 295,060\n",
      "Trainable params: 295,060\n",
      "Non-trainable params: 0\n",
      "_________________________________________________________________\n"
     ]
    }
   ],
   "source": [
    "#Layering for Neural Networks Which in this Case is Four and Encoding\n",
    "model = Sequential()\n",
    "model.add(Dense(200, activation='relu', input_shape=(784,)))\n",
    "model.add(Dropout(0.7))\n",
    "model.add(Dense(300, activation='relu'))\n",
    "model.add(Dropout(0.7))\n",
    "model.add(Dense(250, activation='relu'))\n",
    "model.add(Dropout(0.7))\n",
    "model.add(Dense(10, activation='softmax'))\n",
    "\n",
    "model.summary()\n",
    "\n",
    "model.compile(loss='categorical_crossentropy',\n",
    "              optimizer=RMSprop(),\n",
    "              metrics=['accuracy'])\n",
    "epochs = 25"
   ]
  },
  {
   "cell_type": "code",
   "execution_count": 22,
   "metadata": {},
   "outputs": [
    {
     "name": "stdout",
     "output_type": "stream",
     "text": [
      "Epoch 1/25\n",
      "469/469 [==============================] - 2s 3ms/step - loss: 0.3975 - accuracy: 0.9212 - val_loss: 0.2352 - val_accuracy: 0.9615\n",
      "Epoch 2/25\n",
      "469/469 [==============================] - 1s 3ms/step - loss: 0.4056 - accuracy: 0.9224 - val_loss: 0.2270 - val_accuracy: 0.9619\n",
      "Epoch 3/25\n",
      "469/469 [==============================] - 1s 3ms/step - loss: 0.3934 - accuracy: 0.9228 - val_loss: 0.2495 - val_accuracy: 0.9638\n",
      "Epoch 4/25\n",
      "469/469 [==============================] - 1s 3ms/step - loss: 0.3897 - accuracy: 0.9228 - val_loss: 0.2616 - val_accuracy: 0.9644\n",
      "Epoch 5/25\n",
      "469/469 [==============================] - 1s 3ms/step - loss: 0.4156 - accuracy: 0.9218 - val_loss: 0.2269 - val_accuracy: 0.9636\n",
      "Epoch 6/25\n",
      "469/469 [==============================] - 1s 3ms/step - loss: 0.4066 - accuracy: 0.9201 - val_loss: 0.2434 - val_accuracy: 0.9633\n",
      "Epoch 7/25\n",
      "469/469 [==============================] - 1s 3ms/step - loss: 0.4031 - accuracy: 0.9224 - val_loss: 0.2512 - val_accuracy: 0.9623\n",
      "Epoch 8/25\n",
      "469/469 [==============================] - 1s 3ms/step - loss: 0.4104 - accuracy: 0.9204 - val_loss: 0.2450 - val_accuracy: 0.9628\n",
      "Epoch 9/25\n",
      "469/469 [==============================] - 2s 3ms/step - loss: 0.4069 - accuracy: 0.9231 - val_loss: 0.2563 - val_accuracy: 0.9621\n",
      "Epoch 10/25\n",
      "469/469 [==============================] - 1s 3ms/step - loss: 0.4096 - accuracy: 0.9232 - val_loss: 0.2546 - val_accuracy: 0.9631\n",
      "Epoch 11/25\n",
      "469/469 [==============================] - 2s 3ms/step - loss: 0.4163 - accuracy: 0.9236 - val_loss: 0.2604 - val_accuracy: 0.9627\n",
      "Epoch 12/25\n",
      "469/469 [==============================] - 1s 3ms/step - loss: 0.4009 - accuracy: 0.9239 - val_loss: 0.2496 - val_accuracy: 0.9622\n",
      "Epoch 13/25\n",
      "469/469 [==============================] - 1s 3ms/step - loss: 0.4222 - accuracy: 0.9221 - val_loss: 0.2622 - val_accuracy: 0.9622\n",
      "Epoch 14/25\n",
      "469/469 [==============================] - 1s 3ms/step - loss: 0.4138 - accuracy: 0.9236 - val_loss: 0.2674 - val_accuracy: 0.9654\n",
      "Epoch 15/25\n",
      "469/469 [==============================] - 1s 3ms/step - loss: 0.4279 - accuracy: 0.9217 - val_loss: 0.2779 - val_accuracy: 0.9623\n",
      "Epoch 16/25\n",
      "469/469 [==============================] - 2s 3ms/step - loss: 0.4109 - accuracy: 0.9219 - val_loss: 0.2694 - val_accuracy: 0.9605\n",
      "Epoch 17/25\n",
      "469/469 [==============================] - 1s 3ms/step - loss: 0.4399 - accuracy: 0.9218 - val_loss: 0.2726 - val_accuracy: 0.9650\n",
      "Epoch 18/25\n",
      "469/469 [==============================] - 1s 3ms/step - loss: 0.4246 - accuracy: 0.9223 - val_loss: 0.2678 - val_accuracy: 0.9609\n",
      "Epoch 19/25\n",
      "469/469 [==============================] - 1s 3ms/step - loss: 0.4308 - accuracy: 0.9244 - val_loss: 0.2878 - val_accuracy: 0.9629\n",
      "Epoch 20/25\n",
      "469/469 [==============================] - 1s 3ms/step - loss: 0.4264 - accuracy: 0.9219 - val_loss: 0.3089 - val_accuracy: 0.9629\n",
      "Epoch 21/25\n",
      "469/469 [==============================] - 2s 3ms/step - loss: 0.4378 - accuracy: 0.9227 - val_loss: 0.2988 - val_accuracy: 0.9619\n",
      "Epoch 22/25\n",
      "469/469 [==============================] - 1s 3ms/step - loss: 0.4122 - accuracy: 0.9224 - val_loss: 0.2799 - val_accuracy: 0.9624\n",
      "Epoch 23/25\n",
      "469/469 [==============================] - 1s 3ms/step - loss: 0.4281 - accuracy: 0.9222 - val_loss: 0.3210 - val_accuracy: 0.9606\n",
      "Epoch 24/25\n",
      "469/469 [==============================] - 1s 3ms/step - loss: 0.4384 - accuracy: 0.9236 - val_loss: 0.3075 - val_accuracy: 0.9627\n",
      "Epoch 25/25\n",
      "469/469 [==============================] - 1s 3ms/step - loss: 0.4259 - accuracy: 0.9221 - val_loss: 0.3041 - val_accuracy: 0.9623\n"
     ]
    }
   ],
   "source": [
    "#Fitting Model\n",
    "history = model.fit(X_train, y_train,\n",
    "                    batch_size=batch_size,\n",
    "                    epochs=epochs,\n",
    "                    verbose=1,\n",
    "                    validation_data=(X_test, y_test))"
   ]
  },
  {
   "cell_type": "code",
   "execution_count": 23,
   "metadata": {},
   "outputs": [
    {
     "name": "stdout",
     "output_type": "stream",
     "text": [
      "Test loss: 0.30405309796333313\n",
      "Test accuracy: 0.9623000025749207\n",
      "dict_keys(['loss', 'accuracy', 'val_loss', 'val_accuracy'])\n"
     ]
    }
   ],
   "source": [
    "#Scoring Model\n",
    "score = model.evaluate(X_test, y_test, verbose=0)\n",
    "print('Test loss:', score[0])\n",
    "print('Test accuracy:', score[1])\n",
    "print(history.history.keys())"
   ]
  },
  {
   "cell_type": "markdown",
   "metadata": {},
   "source": [
    "**In Summary:**"
   ]
  },
  {
   "cell_type": "markdown",
   "metadata": {},
   "source": [
    "**1st Model Accuracy = 0.982**"
   ]
  },
  {
   "cell_type": "markdown",
   "metadata": {},
   "source": [
    "**2nd Model Accuracy = 0.978**"
   ]
  },
  {
   "cell_type": "markdown",
   "metadata": {},
   "source": [
    "**3rd Model Accuracy = 0.962**"
   ]
  },
  {
   "cell_type": "markdown",
   "metadata": {},
   "source": [
    "**Accuracy dropped and the test loss has increased which means the model is overfitting the Data. Hence we need to add regularization parameters to correct for it.**"
   ]
  }
 ],
 "metadata": {
  "kernelspec": {
   "display_name": "Python 3",
   "language": "python",
   "name": "python3"
  },
  "language_info": {
   "codemirror_mode": {
    "name": "ipython",
    "version": 3
   },
   "file_extension": ".py",
   "mimetype": "text/x-python",
   "name": "python",
   "nbconvert_exporter": "python",
   "pygments_lexer": "ipython3",
   "version": "3.8.3"
  }
 },
 "nbformat": 4,
 "nbformat_minor": 4
}
