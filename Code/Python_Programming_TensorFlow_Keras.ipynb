{
 "cells": [
  {
   "cell_type": "markdown",
   "metadata": {},
   "source": [
    "# <font color = 'Green'>Python_Programming_TensorFlow_Keras</font>"
   ]
  },
  {
   "cell_type": "markdown",
   "metadata": {},
   "source": [
    "## <font color = 'Blue'>Question 1:</font>"
   ]
  },
  {
   "cell_type": "markdown",
   "metadata": {},
   "source": [
    "**1. Use the make moons dataset to sequentially build three different SVM classifiers. Each subsequent SVM classifier should be designed to “improve” the previous SVM classifier.**"
   ]
  },
  {
   "cell_type": "markdown",
   "metadata": {},
   "source": [
    "**2. Using comments after each classifier justify the choice for the next SVM classifier that you are building (the justification should be prior to building the classifier). The results do not have to show that subsequent SVM classifiers were better, but the justification provided for trying the ‘next’ classifier each time should make sense.**"
   ]
  },
  {
   "cell_type": "markdown",
   "metadata": {},
   "source": [
    "**3. Feel free to use any choice of noise, or number of points, but all comparisons should be on a test set.**"
   ]
  },
  {
   "cell_type": "markdown",
   "metadata": {},
   "source": [
    "**4. Finally build any ensemble model as well, and compare the predictions of the ensemble to the three SVM classifiers.**"
   ]
  },
  {
   "cell_type": "markdown",
   "metadata": {},
   "source": [
    "### **SVM Classifiers**"
   ]
  },
  {
   "cell_type": "code",
   "execution_count": 1,
   "metadata": {},
   "outputs": [],
   "source": [
    "#Import libraries\n",
    "import numpy as np\n",
    "import pandas as pd\n",
    "import matplotlib\n",
    "import matplotlib.pyplot as plt\n",
    "from sklearn import datasets\n",
    "from sklearn.pipeline import Pipeline\n",
    "from sklearn.preprocessing import StandardScaler\n",
    "from sklearn.svm import LinearSVC\n",
    "from sklearn.datasets import make_moons"
   ]
  },
  {
   "cell_type": "code",
   "execution_count": 2,
   "metadata": {},
   "outputs": [
    {
     "data": {
      "image/png": "[encoded data removed]",
      "text/plain": [
       "<Figure size 432x288 with 1 Axes>"
      ]
     },
     "metadata": {
      "needs_background": "light"
     },
     "output_type": "display_data"
    }
   ],
   "source": [
    "#Generate Make Moons data and plot the datapoints\n",
    "X, y = make_moons(n_samples=400, noise=0.25, random_state=42)\n",
    "\n",
    "def plot_dataset(X, y, axes):\n",
    "    plt.plot(X[:, 0][y==0], X[:, 1][y==0], \"bs\")\n",
    "    plt.plot(X[:, 0][y==1], X[:, 1][y==1], \"g^\")\n",
    "    plt.axis(axes)\n",
    "    plt.grid(True, which='both')\n",
    "    plt.xlabel(r\"$x_1$\", fontsize=20)\n",
    "    plt.ylabel(r\"$x_2$\", fontsize=20, rotation=0)\n",
    "\n",
    "plot_dataset(X, y, [-1.5, 2.5, -1, 1.5])\n",
    "plt.show()"
   ]
  },
  {
   "cell_type": "code",
   "execution_count": 3,
   "metadata": {},
   "outputs": [
    {
     "data": {
      "text/plain": [
       "((320, 2), (80, 2), (320,), (80,))"
      ]
     },
     "execution_count": 3,
     "metadata": {},
     "output_type": "execute_result"
    }
   ],
   "source": [
    "#Train test split  (80-20%)\n",
    "from sklearn.model_selection import train_test_split\n",
    "\n",
    "X_train, X_test, y_train, y_test = train_test_split(X, y, test_size = 0.2, random_state = 1)\n",
    "X_train.shape, X_test.shape, y_train.shape, y_test.shape"
   ]
  },
  {
   "cell_type": "markdown",
   "metadata": {},
   "source": [
    "**CLASSIFIER - #1: We'll start with a Linear Classifier.**"
   ]
  },
  {
   "cell_type": "code",
   "execution_count": 4,
   "metadata": {},
   "outputs": [
    {
     "name": "stdout",
     "output_type": "stream",
     "text": [
      "              precision    recall  f1-score   support\n",
      "\n",
      "           0       0.82      0.94      0.87        33\n",
      "           1       0.95      0.85      0.90        47\n",
      "\n",
      "    accuracy                           0.89        80\n",
      "   macro avg       0.88      0.90      0.89        80\n",
      "weighted avg       0.90      0.89      0.89        80\n",
      "\n"
     ]
    },
    {
     "name": "stderr",
     "output_type": "stream",
     "text": [
      "C:\\Users\\surya\\anaconda3\\lib\\site-packages\\sklearn\\svm\\_base.py:976: ConvergenceWarning: Liblinear failed to converge, increase the number of iterations.\n",
      "  warnings.warn(\"Liblinear failed to converge, increase \"\n"
     ]
    }
   ],
   "source": [
    "#Import libraries and build 1st Classifier model\n",
    "from sklearn.svm import SVC\n",
    "from sklearn.metrics import confusion_matrix\n",
    "from sklearn.metrics import classification_report\n",
    "from sklearn.preprocessing import PolynomialFeatures\n",
    "\n",
    "poly1_kernel_svm_clf = Pipeline([\n",
    "        (\"poly_features\", PolynomialFeatures(degree=3)),\n",
    "        (\"scaler\", StandardScaler()),\n",
    "        (\"svm_clf\", LinearSVC(C=100, loss=\"hinge\", random_state=42))\n",
    "    ])\n",
    "poly1_kernel_svm_clf.fit(X_train, y_train)\n",
    "y1_pred=poly1_kernel_svm_clf.predict(X_test)\n",
    "classification_poly1 = classification_report(poly1_kernel_svm_clf.predict(X_test),y_test)\n",
    "print(classification_poly1)"
   ]
  },
  {
   "cell_type": "markdown",
   "metadata": {},
   "source": [
    "**CLASSIFIER - #2: Our data follows Polynomial pattern so I used Polynomial Classifier.**"
   ]
  },
  {
   "cell_type": "code",
   "execution_count": 5,
   "metadata": {},
   "outputs": [
    {
     "name": "stdout",
     "output_type": "stream",
     "text": [
      "              precision    recall  f1-score   support\n",
      "\n",
      "           0       0.89      0.94      0.92        36\n",
      "           1       0.95      0.91      0.93        44\n",
      "\n",
      "    accuracy                           0.93        80\n",
      "   macro avg       0.92      0.93      0.92        80\n",
      "weighted avg       0.93      0.93      0.93        80\n",
      "\n"
     ]
    }
   ],
   "source": [
    "#Build 2nd Classifier model\n",
    "poly2_kernel_svm_clf = Pipeline([\n",
    "        (\"scaler\", StandardScaler()),\n",
    "        (\"svm_clf\", SVC(kernel=\"poly\", degree=10, coef0=10, C=100))\n",
    "    ])\n",
    "\n",
    "poly2_kernel_svm_clf.fit(X_train, y_train)\n",
    "y2_pred=poly2_kernel_svm_clf.predict(X_test)\n",
    "classification_poly2 = classification_report(poly2_kernel_svm_clf.predict(X_test),y_test)\n",
    "print(classification_poly2)"
   ]
  },
  {
   "cell_type": "markdown",
   "metadata": {},
   "source": [
    "**CLASSIFIER - #3: Changed parameters for the Polynomial Classifier like degree and C value.**"
   ]
  },
  {
   "cell_type": "markdown",
   "metadata": {},
   "source": [
    "**CHANGE - 1: Increasing degree changes the multidimensional space used to classify changes.**"
   ]
  },
  {
   "cell_type": "markdown",
   "metadata": {},
   "source": [
    "**CHANGE - 2: Increasing C value adds up additional space between dimensions which helps to avoid misclassification.**"
   ]
  },
  {
   "cell_type": "code",
   "execution_count": null,
   "metadata": {
    "scrolled": true
   },
   "outputs": [],
   "source": [
    "#Build 3rd Classifier model\n",
    "poly3_kernel_svm_clf = Pipeline([\n",
    "        (\"scaler\", StandardScaler()),\n",
    "        (\"svm_clf\", SVC(kernel=\"poly\", degree=15, coef0=20, C=100))\n",
    "    ])\n",
    "poly3_kernel_svm_clf.fit(X_train, y_train)\n",
    "y3_pred=poly2_kernel_svm_clf.predict(X_test)\n",
    "classification_poly3 = classification_report(poly3_kernel_svm_clf.predict(X_test),y_test)\n",
    "print(classification_poly3)"
   ]
  },
  {
   "cell_type": "markdown",
   "metadata": {},
   "source": [
    "### **Ensemble Models**"
   ]
  },
  {
   "cell_type": "code",
   "execution_count": 6,
   "metadata": {},
   "outputs": [
    {
     "data": {
      "text/plain": [
       "VotingClassifier(estimators=[('lr', LogisticRegression(random_state=42)),\n",
       "                             ('rf', RandomForestClassifier(random_state=42)),\n",
       "                             ('svc', SVC(random_state=42))])"
      ]
     },
     "execution_count": 6,
     "metadata": {},
     "output_type": "execute_result"
    }
   ],
   "source": [
    "#Import libraries\n",
    "import os\n",
    "np.random.seed(42)\n",
    "%matplotlib inline\n",
    "\n",
    "from sklearn.ensemble import RandomForestClassifier\n",
    "from sklearn.ensemble import VotingClassifier\n",
    "from sklearn.linear_model import LogisticRegression\n",
    "\n",
    "#Build three ensemble models\n",
    "log_clf = LogisticRegression(random_state=42)\n",
    "rnd_clf = RandomForestClassifier(random_state=42)\n",
    "svm_clf = SVC(random_state=42)\n",
    "\n",
    "voting_clf = VotingClassifier(\n",
    "    estimators=[('lr', log_clf), ('rf', rnd_clf), ('svc', svm_clf)],\n",
    "    voting='hard')\n",
    "voting_clf.fit(X_train, y_train)"
   ]
  },
  {
   "cell_type": "code",
   "execution_count": 7,
   "metadata": {},
   "outputs": [
    {
     "name": "stdout",
     "output_type": "stream",
     "text": [
      "LogisticRegression 0.7625\n",
      "RandomForestClassifier 0.9375\n",
      "SVC 0.9\n",
      "VotingClassifier 0.8875\n"
     ]
    }
   ],
   "source": [
    "#Show ensemble model accuracies\n",
    "from sklearn.metrics import accuracy_score\n",
    "\n",
    "for clf in (log_clf, rnd_clf, svm_clf, voting_clf):\n",
    "    clf.fit(X_train, y_train)\n",
    "    y_pred = clf.predict(X_test)\n",
    "    print(clf.__class__.__name__, accuracy_score(y_test, y_pred))"
   ]
  },
  {
   "cell_type": "markdown",
   "metadata": {},
   "source": [
    "**RESULT: SVM Classifier shows better accuracy than Ensemble Models.**"
   ]
  },
  {
   "cell_type": "markdown",
   "metadata": {},
   "source": [
    "## <font color = 'Blue'>Question 2:</font>"
   ]
  },
  {
   "cell_type": "markdown",
   "metadata": {},
   "source": [
    "**Predict “ocean proximity” in the housing.csv file using both MLP Classifier and Keras. Use 50% of the data as the test set.**"
   ]
  },
  {
   "cell_type": "markdown",
   "metadata": {},
   "source": [
    "**1. Using the MLP Classifier, build and train a deep neural network with three hidden layers of 15, 10 and 7 nodes with max iterations set to 500. Do this with and without early stopping. In each case, compute and print the confusion matrix on the test set, as well as print the iteration at which the training terminated. Did early stopping help, or hurt?**"
   ]
  },
  {
   "cell_type": "markdown",
   "metadata": {},
   "source": [
    "**2. Use Keras to build a network of the same structure (i.e. nodes and hidden layers). In Keras it is OK if the other hyper-parameters are different and in Keras you can build only one model (with OR without early stopping – your choice). Print the confusion matrix on the test set (with or without early stopping – up to you). Was the model built in keras better or worse than what you got previously with MLP classifiers?**"
   ]
  },
  {
   "cell_type": "markdown",
   "metadata": {},
   "source": [
    "### **MLP Classifier**"
   ]
  },
  {
   "cell_type": "code",
   "execution_count": 8,
   "metadata": {},
   "outputs": [],
   "source": [
    "#Import pandas library\n",
    "import pandas as pd\n",
    "np.random.seed(42)\n",
    "\n",
    "#Read 'Housing' csv file\n",
    "housing = pd.read_csv('housing.csv')"
   ]
  },
  {
   "cell_type": "code",
   "execution_count": 9,
   "metadata": {},
   "outputs": [
    {
     "name": "stdout",
     "output_type": "stream",
     "text": [
      "<class 'pandas.core.frame.DataFrame'>\n",
      "RangeIndex: 20433 entries, 0 to 20432\n",
      "Data columns (total 10 columns):\n",
      " #   Column              Non-Null Count  Dtype  \n",
      "---  ------              --------------  -----  \n",
      " 0   longitude           20433 non-null  float64\n",
      " 1   latitude            20433 non-null  float64\n",
      " 2   housing_median_age  20433 non-null  float64\n",
      " 3   total_rooms         20433 non-null  float64\n",
      " 4   total_bedrooms      20433 non-null  float64\n",
      " 5   population          20433 non-null  float64\n",
      " 6   households          20433 non-null  float64\n",
      " 7   median_income       20433 non-null  float64\n",
      " 8   median_house_value  20433 non-null  float64\n",
      " 9   ocean_proximity     20433 non-null  object \n",
      "dtypes: float64(9), object(1)\n",
      "memory usage: 1.6+ MB\n"
     ]
    }
   ],
   "source": [
    "#Drop the missing values\n",
    "housing.dropna(axis=0, inplace=True)\n",
    "\n",
    "#Index reset\n",
    "housing.reset_index(inplace=True, drop=True)\n",
    "\n",
    "housing.describe()\n",
    "housing.info()"
   ]
  },
  {
   "cell_type": "code",
   "execution_count": 10,
   "metadata": {},
   "outputs": [
    {
     "data": {
      "text/plain": [
       "ocean_proximity\n",
       "<1H OCEAN          9034\n",
       "INLAND             6496\n",
       "NEAR OCEAN         2628\n",
       "NEAR BAY           2270\n",
       "ISLAND                5\n",
       "dtype: int64"
      ]
     },
     "execution_count": 10,
     "metadata": {},
     "output_type": "execute_result"
    }
   ],
   "source": [
    "#Set the response and target variables and drop other labels\n",
    "housing_X = housing.drop(\"ocean_proximity\", axis=1)\n",
    "\n",
    "#Select the label\n",
    "housing_target = housing[[\"ocean_proximity\"]]\n",
    "housing_target.value_counts()"
   ]
  },
  {
   "cell_type": "code",
   "execution_count": 11,
   "metadata": {},
   "outputs": [],
   "source": [
    "#Data transform using standard scaler\n",
    "from sklearn.preprocessing import StandardScaler\n",
    "\n",
    "scaler = StandardScaler()\n",
    "housing_X_std = scaler.fit_transform(housing_X)"
   ]
  },
  {
   "cell_type": "code",
   "execution_count": 12,
   "metadata": {},
   "outputs": [
    {
     "data": {
      "text/plain": [
       "((10216, 9), (10217, 9))"
      ]
     },
     "execution_count": 12,
     "metadata": {},
     "output_type": "execute_result"
    }
   ],
   "source": [
    "#Train test split (50-50%)\n",
    "from sklearn.model_selection import train_test_split\n",
    "\n",
    "X_train, X_test, y_train, y_test = train_test_split(housing_X_std, housing_target, test_size=0.5)\n",
    "X_train.shape, X_test.shape"
   ]
  },
  {
   "cell_type": "code",
   "execution_count": 13,
   "metadata": {},
   "outputs": [
    {
     "name": "stderr",
     "output_type": "stream",
     "text": [
      "C:\\Users\\surya\\anaconda3\\lib\\site-packages\\sklearn\\utils\\validation.py:73: DataConversionWarning: A column-vector y was passed when a 1d array was expected. Please change the shape of y to (n_samples, ), for example using ravel().\n",
      "  return f(**kwargs)\n"
     ]
    },
    {
     "data": {
      "text/plain": [
       "MLPClassifier(hidden_layer_sizes=(15, 10, 7), max_iter=500)"
      ]
     },
     "execution_count": 13,
     "metadata": {},
     "output_type": "execute_result"
    }
   ],
   "source": [
    "#Build DNN model using MLP classifier without early stopping\n",
    "from sklearn.neural_network import MLPClassifier\n",
    "\n",
    "dnn_clf = MLPClassifier(hidden_layer_sizes=(15,10,7),\n",
    "                       max_iter=500)\n",
    "\n",
    "dnn_clf.fit(X_train, y_train)"
   ]
  },
  {
   "cell_type": "code",
   "execution_count": 14,
   "metadata": {},
   "outputs": [
    {
     "name": "stdout",
     "output_type": "stream",
     "text": [
      "Accuracy of DNN without early stopping:  0.9295292160125281\n"
     ]
    }
   ],
   "source": [
    "#Print accuracy for the model\n",
    "from sklearn.metrics import accuracy_score\n",
    "\n",
    "y_test_pred = dnn_clf.predict(X_test)\n",
    "\n",
    "print(\"Accuracy of DNN without early stopping: \", str(accuracy_score(y_test, y_test_pred)))"
   ]
  },
  {
   "cell_type": "code",
   "execution_count": 15,
   "metadata": {},
   "outputs": [
    {
     "data": {
      "text/plain": [
       "array([[4246,   62,    0,   20,  217],\n",
       "       [ 149, 3055,    0,   12,    1],\n",
       "       [   0,    0,    0,    0,    3],\n",
       "       [  17,    2,    0, 1069,   39],\n",
       "       [ 162,    0,    0,   36, 1127]], dtype=int64)"
      ]
     },
     "execution_count": 15,
     "metadata": {},
     "output_type": "execute_result"
    }
   ],
   "source": [
    "#Show confusion matrix\n",
    "from sklearn.metrics import confusion_matrix\n",
    "\n",
    "confusion_matrix(y_test, y_test_pred)"
   ]
  },
  {
   "cell_type": "code",
   "execution_count": 16,
   "metadata": {},
   "outputs": [
    {
     "data": {
      "text/plain": [
       "429"
      ]
     },
     "execution_count": 16,
     "metadata": {},
     "output_type": "execute_result"
    }
   ],
   "source": [
    "dnn_clf.n_iter_"
   ]
  },
  {
   "cell_type": "markdown",
   "metadata": {},
   "source": [
    "### **Early Stopping**"
   ]
  },
  {
   "cell_type": "code",
   "execution_count": 17,
   "metadata": {},
   "outputs": [
    {
     "name": "stderr",
     "output_type": "stream",
     "text": [
      "C:\\Users\\surya\\anaconda3\\lib\\site-packages\\sklearn\\utils\\validation.py:73: DataConversionWarning: A column-vector y was passed when a 1d array was expected. Please change the shape of y to (n_samples, ), for example using ravel().\n",
      "  return f(**kwargs)\n"
     ]
    },
    {
     "data": {
      "text/plain": [
       "MLPClassifier(early_stopping=True, hidden_layer_sizes=(15, 10, 7), max_iter=500)"
      ]
     },
     "execution_count": 17,
     "metadata": {},
     "output_type": "execute_result"
    }
   ],
   "source": [
    "#Build DNN model using MLP classifier with early stopping\n",
    "dnn_clf_with_stop = MLPClassifier(hidden_layer_sizes=(15,10,7),\n",
    "                       max_iter=500,\n",
    "                       early_stopping=True)\n",
    "\n",
    "dnn_clf_with_stop.fit(X_train, y_train)"
   ]
  },
  {
   "cell_type": "code",
   "execution_count": 18,
   "metadata": {},
   "outputs": [
    {
     "name": "stdout",
     "output_type": "stream",
     "text": [
      "Accuracy of DNN with early stopping:  0.8620925907800724\n"
     ]
    },
    {
     "data": {
      "text/plain": [
       "array([[4022,   76,    0,  226,  221],\n",
       "       [ 146, 3018,    0,   53,    0],\n",
       "       [   0,    0,    0,    0,    3],\n",
       "       [ 135,   33,    0,  913,   46],\n",
       "       [ 348,    0,    0,  122,  855]], dtype=int64)"
      ]
     },
     "execution_count": 18,
     "metadata": {},
     "output_type": "execute_result"
    }
   ],
   "source": [
    "#Print accuracy and confusion matrix for the model\n",
    "y_test_pred_with_stop = dnn_clf_with_stop.predict(X_test)\n",
    "print(\"Accuracy of DNN with early stopping: \", str(accuracy_score(y_test, y_test_pred_with_stop)))\n",
    "confusion_matrix(y_test, y_test_pred_with_stop)"
   ]
  },
  {
   "cell_type": "code",
   "execution_count": 19,
   "metadata": {},
   "outputs": [
    {
     "data": {
      "text/plain": [
       "44"
      ]
     },
     "execution_count": 19,
     "metadata": {},
     "output_type": "execute_result"
    }
   ],
   "source": [
    "dnn_clf_with_stop.n_iter_"
   ]
  },
  {
   "cell_type": "markdown",
   "metadata": {},
   "source": [
    "**RESULT: Early Stopping hurts the model as we got less accuracy (Without: 93% vs With: 86%).**"
   ]
  },
  {
   "cell_type": "markdown",
   "metadata": {},
   "source": [
    "### **Keras**"
   ]
  },
  {
   "cell_type": "code",
   "execution_count": 20,
   "metadata": {},
   "outputs": [],
   "source": [
    "#Import library\n",
    "import tensorflow as tf"
   ]
  },
  {
   "cell_type": "code",
   "execution_count": 21,
   "metadata": {},
   "outputs": [
    {
     "data": {
      "text/plain": [
       "((20433, 9), (20433, 1))"
      ]
     },
     "execution_count": 21,
     "metadata": {},
     "output_type": "execute_result"
    }
   ],
   "source": [
    "#Target and response variables\n",
    "housing_X_std.shape,housing_target.shape"
   ]
  },
  {
   "cell_type": "code",
   "execution_count": 22,
   "metadata": {},
   "outputs": [],
   "source": [
    "#Data transform on the target variable\n",
    "from sklearn.preprocessing import OrdinalEncoder\n",
    "\n",
    "ordinal_encoder = OrdinalEncoder()\n",
    "\n",
    "housing_labels_ord = ordinal_encoder.fit_transform(housing_target)"
   ]
  },
  {
   "cell_type": "code",
   "execution_count": 23,
   "metadata": {},
   "outputs": [
    {
     "data": {
      "text/plain": [
       "dtype('int32')"
      ]
     },
     "execution_count": 23,
     "metadata": {},
     "output_type": "execute_result"
    }
   ],
   "source": [
    "housing_labels_int = housing_labels_ord.astype(int)\n",
    "\n",
    "housing_labels_int.dtype"
   ]
  },
  {
   "cell_type": "code",
   "execution_count": 24,
   "metadata": {},
   "outputs": [
    {
     "data": {
      "text/plain": [
       "((10216, 9), (10217, 9), (10216, 1), (10217, 1))"
      ]
     },
     "execution_count": 24,
     "metadata": {},
     "output_type": "execute_result"
    }
   ],
   "source": [
    "#Train test split (50-50%)\n",
    "X_train, X_test, y_train, y_test = train_test_split(housing_X_std, housing_labels_int, test_size=0.5)\n",
    "X_train.shape, X_test.shape, y_train.shape, y_test.shape"
   ]
  },
  {
   "cell_type": "code",
   "execution_count": 25,
   "metadata": {},
   "outputs": [],
   "source": [
    "#Import libraries\n",
    "from tensorflow import keras\n",
    "from tensorflow.keras.models import Sequential\n",
    "from tensorflow.keras.layers import Dense\n",
    "from tensorflow.keras.layers import Dropout\n",
    "\n",
    "#Fix random seed reproducibility\n",
    "np.random.seed(42)"
   ]
  },
  {
   "cell_type": "code",
   "execution_count": 26,
   "metadata": {},
   "outputs": [],
   "source": [
    "#Build model without early stopping\n",
    "model = Sequential()\n",
    "\n",
    "model.add(Dense(15, input_dim=9, activation='relu'))\n",
    "model.add(Dense(10, activation='relu'))\n",
    "model.add(Dense(7, activation='relu'))\n",
    "\n",
    "#Final layer: Need 5 nodes with softmax (As we have 5 categories)\n",
    "model.add(Dense(5, activation='softmax'))"
   ]
  },
  {
   "cell_type": "code",
   "execution_count": 27,
   "metadata": {},
   "outputs": [
    {
     "name": "stdout",
     "output_type": "stream",
     "text": [
      "Epoch 1/100\n",
      "103/103 [==============================] - 0s 541us/step - loss: 1.3839 - accuracy: 0.4226\n",
      "Epoch 2/100\n",
      "103/103 [==============================] - 0s 494us/step - loss: 1.1691 - accuracy: 0.5418\n",
      "Epoch 3/100\n",
      "103/103 [==============================] - 0s 542us/step - loss: 1.0048 - accuracy: 0.6182\n",
      "Epoch 4/100\n",
      "103/103 [==============================] - 0s 600us/step - loss: 0.8366 - accuracy: 0.6913\n",
      "Epoch 5/100\n",
      "103/103 [==============================] - 0s 978us/step - loss: 0.6905 - accuracy: 0.7384\n",
      "Epoch 6/100\n",
      "103/103 [==============================] - 0s 939us/step - loss: 0.6123 - accuracy: 0.7625\n",
      "Epoch 7/100\n",
      "103/103 [==============================] - 0s 685us/step - loss: 0.5678 - accuracy: 0.7748\n",
      "Epoch 8/100\n",
      "103/103 [==============================] - 0s 513us/step - loss: 0.5273 - accuracy: 0.7843\n",
      "Epoch 9/100\n",
      "103/103 [==============================] - 0s 542us/step - loss: 0.4841 - accuracy: 0.7949\n",
      "Epoch 10/100\n",
      "103/103 [==============================] - 0s 581us/step - loss: 0.4367 - accuracy: 0.8176\n",
      "Epoch 11/100\n",
      "103/103 [==============================] - 0s 639us/step - loss: 0.4051 - accuracy: 0.8316\n",
      "Epoch 12/100\n",
      "103/103 [==============================] - 0s 581us/step - loss: 0.3883 - accuracy: 0.8385\n",
      "Epoch 13/100\n",
      "103/103 [==============================] - 0s 591us/step - loss: 0.3820 - accuracy: 0.8395\n",
      "Epoch 14/100\n",
      "103/103 [==============================] - 0s 600us/step - loss: 0.3705 - accuracy: 0.8451\n",
      "Epoch 15/100\n",
      "103/103 [==============================] - 0s 552us/step - loss: 0.3658 - accuracy: 0.8506\n",
      "Epoch 16/100\n",
      "103/103 [==============================] - 0s 484us/step - loss: 0.3615 - accuracy: 0.8516\n",
      "Epoch 17/100\n",
      "103/103 [==============================] - 0s 484us/step - loss: 0.3558 - accuracy: 0.8536\n",
      "Epoch 18/100\n",
      "103/103 [==============================] - 0s 484us/step - loss: 0.3615 - accuracy: 0.8526\n",
      "Epoch 19/100\n",
      "103/103 [==============================] - 0s 465us/step - loss: 0.3517 - accuracy: 0.8601\n",
      "Epoch 20/100\n",
      "103/103 [==============================] - 0s 484us/step - loss: 0.3464 - accuracy: 0.8594\n",
      "Epoch 21/100\n",
      "103/103 [==============================] - 0s 504us/step - loss: 0.3433 - accuracy: 0.8619\n",
      "Epoch 22/100\n",
      "103/103 [==============================] - 0s 513us/step - loss: 0.3459 - accuracy: 0.8616\n",
      "Epoch 23/100\n",
      "103/103 [==============================] - 0s 513us/step - loss: 0.3429 - accuracy: 0.8593\n",
      "Epoch 24/100\n",
      "103/103 [==============================] - 0s 571us/step - loss: 0.3385 - accuracy: 0.8656\n",
      "Epoch 25/100\n",
      "103/103 [==============================] - 0s 552us/step - loss: 0.3362 - accuracy: 0.8649\n",
      "Epoch 26/100\n",
      "103/103 [==============================] - 0s 571us/step - loss: 0.3253 - accuracy: 0.8679\n",
      "Epoch 27/100\n",
      "103/103 [==============================] - 0s 562us/step - loss: 0.3273 - accuracy: 0.8692\n",
      "Epoch 28/100\n",
      "103/103 [==============================] - 0s 581us/step - loss: 0.3233 - accuracy: 0.8689\n",
      "Epoch 29/100\n",
      "103/103 [==============================] - 0s 562us/step - loss: 0.3107 - accuracy: 0.8714\n",
      "Epoch 30/100\n",
      "103/103 [==============================] - 0s 533us/step - loss: 0.3089 - accuracy: 0.8716\n",
      "Epoch 31/100\n",
      "103/103 [==============================] - 0s 508us/step - loss: 0.3111 - accuracy: 0.8720\n",
      "Epoch 32/100\n",
      "103/103 [==============================] - 0s 484us/step - loss: 0.3001 - accuracy: 0.8764\n",
      "Epoch 33/100\n",
      "103/103 [==============================] - 0s 523us/step - loss: 0.2998 - accuracy: 0.8748\n",
      "Epoch 34/100\n",
      "103/103 [==============================] - 0s 552us/step - loss: 0.2995 - accuracy: 0.8776\n",
      "Epoch 35/100\n",
      "103/103 [==============================] - 0s 591us/step - loss: 0.3011 - accuracy: 0.8785\n",
      "Epoch 36/100\n",
      "103/103 [==============================] - 0s 591us/step - loss: 0.2859 - accuracy: 0.8795\n",
      "Epoch 37/100\n",
      "103/103 [==============================] - 0s 562us/step - loss: 0.2854 - accuracy: 0.8823\n",
      "Epoch 38/100\n",
      "103/103 [==============================] - 0s 591us/step - loss: 0.2815 - accuracy: 0.8902\n",
      "Epoch 39/100\n",
      "103/103 [==============================] - 0s 591us/step - loss: 0.2759 - accuracy: 0.8871\n",
      "Epoch 40/100\n",
      "103/103 [==============================] - 0s 484us/step - loss: 0.2747 - accuracy: 0.8866\n",
      "Epoch 41/100\n",
      "103/103 [==============================] - 0s 522us/step - loss: 0.2716 - accuracy: 0.8901\n",
      "Epoch 42/100\n",
      "103/103 [==============================] - 0s 484us/step - loss: 0.2734 - accuracy: 0.8889\n",
      "Epoch 43/100\n",
      "103/103 [==============================] - 0s 484us/step - loss: 0.2603 - accuracy: 0.8957\n",
      "Epoch 44/100\n",
      "103/103 [==============================] - 0s 504us/step - loss: 0.2601 - accuracy: 0.8965\n",
      "Epoch 45/100\n",
      "103/103 [==============================] - 0s 474us/step - loss: 0.2611 - accuracy: 0.8923\n",
      "Epoch 46/100\n",
      "103/103 [==============================] - 0s 503us/step - loss: 0.2585 - accuracy: 0.8940\n",
      "Epoch 47/100\n",
      "103/103 [==============================] - 0s 484us/step - loss: 0.2595 - accuracy: 0.8914\n",
      "Epoch 48/100\n",
      "103/103 [==============================] - 0s 542us/step - loss: 0.2579 - accuracy: 0.8953\n",
      "Epoch 49/100\n",
      "103/103 [==============================] - 0s 542us/step - loss: 0.2503 - accuracy: 0.8958\n",
      "Epoch 50/100\n",
      "103/103 [==============================] - 0s 562us/step - loss: 0.2512 - accuracy: 0.8994\n",
      "Epoch 51/100\n",
      "103/103 [==============================] - 0s 474us/step - loss: 0.2422 - accuracy: 0.8987\n",
      "Epoch 52/100\n",
      "103/103 [==============================] - 0s 484us/step - loss: 0.2510 - accuracy: 0.8976\n",
      "Epoch 53/100\n",
      "103/103 [==============================] - 0s 513us/step - loss: 0.2457 - accuracy: 0.8984\n",
      "Epoch 54/100\n",
      "103/103 [==============================] - 0s 474us/step - loss: 0.2447 - accuracy: 0.8971\n",
      "Epoch 55/100\n",
      "103/103 [==============================] - 0s 455us/step - loss: 0.2385 - accuracy: 0.9016\n",
      "Epoch 56/100\n",
      "103/103 [==============================] - 0s 436us/step - loss: 0.2416 - accuracy: 0.9018\n",
      "Epoch 57/100\n",
      "103/103 [==============================] - 0s 445us/step - loss: 0.2369 - accuracy: 0.9054\n",
      "Epoch 58/100\n",
      "103/103 [==============================] - 0s 455us/step - loss: 0.2359 - accuracy: 0.9054\n",
      "Epoch 59/100\n",
      "103/103 [==============================] - 0s 455us/step - loss: 0.2298 - accuracy: 0.9057\n",
      "Epoch 60/100\n",
      "103/103 [==============================] - 0s 436us/step - loss: 0.2286 - accuracy: 0.9059\n",
      "Epoch 61/100\n",
      "103/103 [==============================] - 0s 455us/step - loss: 0.2307 - accuracy: 0.9060\n",
      "Epoch 62/100\n",
      "103/103 [==============================] - 0s 445us/step - loss: 0.2257 - accuracy: 0.9062\n",
      "Epoch 63/100\n",
      "103/103 [==============================] - 0s 445us/step - loss: 0.2278 - accuracy: 0.9052\n",
      "Epoch 64/100\n",
      "103/103 [==============================] - 0s 445us/step - loss: 0.2229 - accuracy: 0.9081\n",
      "Epoch 65/100\n",
      "103/103 [==============================] - 0s 445us/step - loss: 0.2318 - accuracy: 0.9065\n",
      "Epoch 66/100\n",
      "103/103 [==============================] - 0s 455us/step - loss: 0.2231 - accuracy: 0.9066\n",
      "Epoch 67/100\n",
      "103/103 [==============================] - 0s 445us/step - loss: 0.2204 - accuracy: 0.9082\n",
      "Epoch 68/100\n",
      "103/103 [==============================] - 0s 513us/step - loss: 0.2218 - accuracy: 0.9102\n",
      "Epoch 69/100\n",
      "103/103 [==============================] - 0s 600us/step - loss: 0.2193 - accuracy: 0.9089\n",
      "Epoch 70/100\n",
      "103/103 [==============================] - 0s 581us/step - loss: 0.2196 - accuracy: 0.9066\n",
      "Epoch 71/100\n",
      "103/103 [==============================] - 0s 620us/step - loss: 0.2169 - accuracy: 0.9112\n",
      "Epoch 72/100\n",
      "103/103 [==============================] - 0s 482us/step - loss: 0.2204 - accuracy: 0.9082\n",
      "Epoch 73/100\n",
      "103/103 [==============================] - 0s 474us/step - loss: 0.2144 - accuracy: 0.9110\n",
      "Epoch 74/100\n",
      "103/103 [==============================] - 0s 445us/step - loss: 0.2085 - accuracy: 0.9104\n",
      "Epoch 75/100\n",
      "103/103 [==============================] - 0s 445us/step - loss: 0.2085 - accuracy: 0.9123\n",
      "Epoch 76/100\n",
      "103/103 [==============================] - 0s 455us/step - loss: 0.2095 - accuracy: 0.9126\n",
      "Epoch 77/100\n",
      "103/103 [==============================] - 0s 484us/step - loss: 0.2046 - accuracy: 0.9152\n",
      "Epoch 78/100\n",
      "103/103 [==============================] - 0s 484us/step - loss: 0.2097 - accuracy: 0.9123\n",
      "Epoch 79/100\n",
      "103/103 [==============================] - 0s 484us/step - loss: 0.2060 - accuracy: 0.9149\n",
      "Epoch 80/100\n",
      "103/103 [==============================] - 0s 474us/step - loss: 0.2097 - accuracy: 0.9125\n",
      "Epoch 81/100\n",
      "103/103 [==============================] - 0s 504us/step - loss: 0.2006 - accuracy: 0.9143\n",
      "Epoch 82/100\n",
      "103/103 [==============================] - 0s 591us/step - loss: 0.2123 - accuracy: 0.9080\n",
      "Epoch 83/100\n",
      "103/103 [==============================] - 0s 649us/step - loss: 0.1969 - accuracy: 0.9192\n",
      "Epoch 84/100\n",
      "103/103 [==============================] - 0s 639us/step - loss: 0.2053 - accuracy: 0.9145\n",
      "Epoch 85/100\n",
      "103/103 [==============================] - 0s 571us/step - loss: 0.2065 - accuracy: 0.9183\n",
      "Epoch 86/100\n",
      "103/103 [==============================] - 0s 658us/step - loss: 0.1963 - accuracy: 0.9165\n",
      "Epoch 87/100\n",
      "103/103 [==============================] - 0s 804us/step - loss: 0.2033 - accuracy: 0.9146\n",
      "Epoch 88/100\n",
      "103/103 [==============================] - 0s 519us/step - loss: 0.2022 - accuracy: 0.9173\n",
      "Epoch 89/100\n",
      "103/103 [==============================] - 0s 513us/step - loss: 0.1984 - accuracy: 0.9166\n",
      "Epoch 90/100\n",
      "103/103 [==============================] - 0s 474us/step - loss: 0.1993 - accuracy: 0.9182\n",
      "Epoch 91/100\n",
      "103/103 [==============================] - 0s 445us/step - loss: 0.2033 - accuracy: 0.9151\n",
      "Epoch 92/100\n",
      "103/103 [==============================] - 0s 484us/step - loss: 0.1970 - accuracy: 0.9172\n",
      "Epoch 93/100\n",
      "103/103 [==============================] - 0s 484us/step - loss: 0.1950 - accuracy: 0.9185\n",
      "Epoch 94/100\n",
      "103/103 [==============================] - 0s 465us/step - loss: 0.1890 - accuracy: 0.9211\n",
      "Epoch 95/100\n",
      "103/103 [==============================] - 0s 436us/step - loss: 0.1998 - accuracy: 0.9162\n",
      "Epoch 96/100\n",
      "103/103 [==============================] - 0s 445us/step - loss: 0.2017 - accuracy: 0.9142\n",
      "Epoch 97/100\n",
      "103/103 [==============================] - 0s 445us/step - loss: 0.1967 - accuracy: 0.9188\n",
      "Epoch 98/100\n",
      "103/103 [==============================] - 0s 455us/step - loss: 0.2047 - accuracy: 0.9115\n",
      "Epoch 99/100\n",
      "103/103 [==============================] - 0s 465us/step - loss: 0.1933 - accuracy: 0.9168\n",
      "Epoch 100/100\n",
      "103/103 [==============================] - 0s 445us/step - loss: 0.1952 - accuracy: 0.9190\n"
     ]
    },
    {
     "data": {
      "text/plain": [
       "<tensorflow.python.keras.callbacks.History at 0x135585916d0>"
      ]
     },
     "execution_count": 27,
     "metadata": {},
     "output_type": "execute_result"
    }
   ],
   "source": [
    "sgd = keras.optimizers.SGD(lr=0.05)\n",
    "model.compile(loss='sparse_categorical_crossentropy', optimizer=sgd, metrics=['accuracy'])\n",
    "model.fit(X_train, y_train, epochs=100, batch_size=100)"
   ]
  },
  {
   "cell_type": "code",
   "execution_count": 29,
   "metadata": {},
   "outputs": [
    {
     "data": {
      "text/plain": [
       "array([[4421,   43,    0,   26,   77],\n",
       "       [ 196, 3063,    0,   11,    0],\n",
       "       [   0,    0,    0,    0,    4],\n",
       "       [ 189,   46,    0,  875,    4],\n",
       "       [ 340,    0,    0,   67,  855]], dtype=int64)"
      ]
     },
     "execution_count": 29,
     "metadata": {},
     "output_type": "execute_result"
    }
   ],
   "source": [
    "y_test_pred = model.predict(X_test)\n",
    "\n",
    "y_test_pred.shape,y_test.shape,X_test.shape\n",
    "\n",
    "#Test split prediction\n",
    "confusion_matrix(y_test,np.argmax(y_test_pred,axis=1).reshape(-1,1))"
   ]
  },
  {
   "cell_type": "code",
   "execution_count": 30,
   "metadata": {},
   "outputs": [
    {
     "name": "stdout",
     "output_type": "stream",
     "text": [
      "320/320 [==============================] - 0s 415us/step - loss: 0.2564 - accuracy: 0.9018\n",
      "Accuracy on DNN without using early stopping:\n",
      "\n",
      "accuracy: 90.18%\n"
     ]
    }
   ],
   "source": [
    "#Accuracy on test set\n",
    "scores = model.evaluate(X_test, y_test)\n",
    "print(\"Accuracy on DNN without using early stopping:\")\n",
    "print(\"\\n%s: %.2f%%\" % (model.metrics_names[1], scores[1]*100))"
   ]
  },
  {
   "cell_type": "markdown",
   "metadata": {},
   "source": [
    "### **Early Stopping**"
   ]
  },
  {
   "cell_type": "code",
   "execution_count": 31,
   "metadata": {},
   "outputs": [
    {
     "name": "stdout",
     "output_type": "stream",
     "text": [
      "Epoch 1/100\n",
      "103/103 [==============================] - 0s 2ms/step - loss: 0.1927 - accuracy: 0.9207 - val_loss: 0.3491 - val_accuracy: 0.8503\n",
      "Epoch 2/100\n",
      "103/103 [==============================] - 0s 1ms/step - loss: 0.1868 - accuracy: 0.9198 - val_loss: 0.7449 - val_accuracy: 0.7514\n",
      "Epoch 3/100\n",
      "103/103 [==============================] - 0s 1ms/step - loss: 0.2019 - accuracy: 0.9146 - val_loss: 0.4144 - val_accuracy: 0.8812\n",
      "Epoch 4/100\n",
      "103/103 [==============================] - 0s 1ms/step - loss: 0.1877 - accuracy: 0.9191 - val_loss: 0.1963 - val_accuracy: 0.9183\n",
      "Epoch 5/100\n",
      "103/103 [==============================] - 0s 1ms/step - loss: 0.1883 - accuracy: 0.9189 - val_loss: 0.2577 - val_accuracy: 0.9014\n",
      "Epoch 6/100\n",
      "103/103 [==============================] - 0s 1ms/step - loss: 0.1943 - accuracy: 0.9168 - val_loss: 0.2017 - val_accuracy: 0.9194\n",
      "Epoch 7/100\n",
      "103/103 [==============================] - 0s 1ms/step - loss: 0.1967 - accuracy: 0.9169 - val_loss: 0.4577 - val_accuracy: 0.8677\n",
      "Epoch 8/100\n",
      "103/103 [==============================] - 0s 1ms/step - loss: 0.1860 - accuracy: 0.9240 - val_loss: 0.2316 - val_accuracy: 0.8962\n",
      "Epoch 9/100\n",
      "103/103 [==============================] - 0s 1ms/step - loss: 0.1928 - accuracy: 0.9199 - val_loss: 0.2721 - val_accuracy: 0.8965\n",
      "Epoch 00009: early stopping\n"
     ]
    },
    {
     "data": {
      "text/plain": [
       "<tensorflow.python.keras.callbacks.History at 0x13559bf5af0>"
      ]
     },
     "execution_count": 31,
     "metadata": {},
     "output_type": "execute_result"
    }
   ],
   "source": [
    "#Build model with early stopping\n",
    "from tensorflow.keras.callbacks import EarlyStopping\n",
    "\n",
    "\n",
    "earlystop = EarlyStopping(monitor='val_loss', patience=5, verbose=1, mode='auto')\n",
    "\n",
    "callback = [earlystop]\n",
    "\n",
    "model.fit(X_train, y_train, validation_data=(X_test, y_test), \n",
    "          epochs=100, batch_size=100, callbacks=callback)"
   ]
  },
  {
   "cell_type": "code",
   "execution_count": 32,
   "metadata": {},
   "outputs": [
    {
     "name": "stdout",
     "output_type": "stream",
     "text": [
      "320/320 [==============================] - 0s 414us/step - loss: 0.2721 - accuracy: 0.8965\n",
      "Accuracy on DNN with using early stopping:\n",
      "\n",
      "accuracy: 89.65%\n"
     ]
    }
   ],
   "source": [
    "#Accuracy on test set\n",
    "scores = model.evaluate(X_test, y_test)\n",
    "print(\"Accuracy on DNN with using early stopping:\")\n",
    "print(\"\\n%s: %.2f%%\" % (model.metrics_names[1], scores[1]*100))"
   ]
  },
  {
   "cell_type": "markdown",
   "metadata": {},
   "source": [
    "**Based on the results,**"
   ]
  },
  {
   "cell_type": "markdown",
   "metadata": {},
   "source": [
    "**CASE - 1: Without Early Stopping -> MLP Classifier (93%) is better than model build in Keras (90%).**"
   ]
  },
  {
   "cell_type": "markdown",
   "metadata": {},
   "source": [
    "**CASE - 2: With Early Stopping -> Model built in Keras (89%) is better than MLP Classifier (86%).**"
   ]
  }
 ],
 "metadata": {
  "kernelspec": {
   "display_name": "Python 3",
   "language": "python",
   "name": "python3"
  },
  "language_info": {
   "codemirror_mode": {
    "name": "ipython",
    "version": 3
   },
   "file_extension": ".py",
   "mimetype": "text/x-python",
   "name": "python",
   "nbconvert_exporter": "python",
   "pygments_lexer": "ipython3",
   "version": "3.8.3"
  }
 },
 "nbformat": 4,
 "nbformat_minor": 4
}
